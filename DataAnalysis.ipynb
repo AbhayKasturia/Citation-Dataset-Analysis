{
 "cells": [
  {
   "cell_type": "markdown",
   "metadata": {
    "collapsed": true
   },
   "source": [
    "## Q3. Dataset Analysis (30 pts)\n",
    "\n",
    "### 3.1 Basic Counts\n",
    "#### a. Compute the number of distinct authors, publication venues, publications, and citations/references"
   ]
  },
  {
   "cell_type": "code",
   "execution_count": 1,
   "metadata": {
    "collapsed": true
   },
   "outputs": [],
   "source": [
    "import csv"
   ]
  },
  {
   "cell_type": "code",
   "execution_count": 2,
   "metadata": {},
   "outputs": [
    {
     "name": "stdout",
     "output_type": "stream",
     "text": [
      "Number of Authors 1478734\n",
      "Number of Venues 255686\n",
      "Number of References 7250326\n",
      "Number of Publications 1976815\n"
     ]
    }
   ],
   "source": [
    "\n",
    "with open(\"Downloads\\AP_train.txt\",'r', newline='', encoding=\"utf8\") as apfile:    \n",
    "    count = 0\n",
    "    author = set()\n",
    "    venues = set()\n",
    "    publications = set()\n",
    "    citations = set()\n",
    "    index = \"\"\n",
    "    for row in apfile:\n",
    "        if row.startswith(\"#@\"):            \n",
    "            for column in row[3:].split(\";\"):\n",
    "                 author.add(column.strip())\n",
    "        elif row.startswith(\"#c\"):\n",
    "            venues.add(row)\n",
    "        elif row.startswith(\"#%\"):\n",
    "            citations.add(index+row)\n",
    "        elif row.startswith(\"#index\"):\n",
    "            index = row[7:]\n",
    "            publications.add(row)\n",
    "    # The total number contain the null author value as well!            \n",
    "    print(\"Number of Authors\" , len(author))\n",
    "    print(\"Number of Venues\" , len(venues))\n",
    "    print(\"Number of References\" , len(citations))\n",
    "    print(\"Number of Publications\" , len(publications))"
   ]
  },
  {
   "cell_type": "markdown",
   "metadata": {},
   "source": [
    "#### b. Are these numbers likely to be accurate? As an example look up all the publications venue names associated with the conference \\Principles and Practice of Knowledge Discovery in Databases\" what do you notice?"
   ]
  },
  {
   "cell_type": "code",
   "execution_count": 3,
   "metadata": {},
   "outputs": [
    {
     "name": "stdout",
     "output_type": "stream",
     "text": [
      "Venues lists are \n",
      "Knowledge Discovery in Databases: PKDD 2006: 10th European Conference on Principles and Practice of Knowledge Discovery in Databases, Berlin, Germany, September ... (Lecture Notes in Computer Science)\n",
      "\n",
      "PKDD 2007 Proceedings of the 11th European conference on Principles and Practice of Knowledge Discovery in Databases\n",
      "\n",
      "PKDD '04 Proceedings of the 8th European Conference on Principles and Practice of Knowledge Discovery in Databases\n",
      "\n",
      "Knowledge Discovery in Databases: PKDD 2005: 9th European Conference on Principles and Practice of Knowledge Discovery in Databases, Porto, Portugal, October ... / Lecture Notes in Artificial Intelligence)\n",
      "\n",
      "PKDD'05 Proceedings of the 9th European conference on Principles and Practice of Knowledge Discovery in Databases\n",
      "\n"
     ]
    }
   ],
   "source": [
    "venue_set = set()\n",
    "\n",
    "with open(\"Downloads\\AP_train.txt\",'r', newline='', encoding=\"utf8\") as apfile:       \n",
    "    index = \"\"\n",
    "    venue = \"\"\n",
    "    for row in apfile:\n",
    "        if row.startswith(\"#c\"):\n",
    "            if \"Principles and Practice of Knowledge Discovery in Databases\" in row:\n",
    "                venue = row[3:]\n",
    "                venue_set.add(venue)\n",
    "\n",
    "print(\"Venues lists are \")\n",
    "for venue in venue_set:            \n",
    "    print(venue)"
   ]
  },
  {
   "cell_type": "markdown",
   "metadata": {},
   "source": [
    "***Some of the venue names consist dates and locations of the conferences and also about which stream the lecture is on. While the same venue in another publication might not have the same description of the venue. Making the two venues different. Thus, the venue numbers are a lot more bloated than the actual number of venues. Hence, the count numbers don't seem accurate !!***"
   ]
  },
  {
   "cell_type": "markdown",
   "metadata": {},
   "source": [
    "### 3.2 Publications, Authors, Venues\n",
    "#### a. For each author, construct the list of publications. Plot a histogram of the number of publications per author (use a logarithmic scale on the y axis)."
   ]
  },
  {
   "cell_type": "code",
   "execution_count": 72,
   "metadata": {
    "collapsed": true
   },
   "outputs": [],
   "source": [
    "author_publications = {}\n",
    "\n",
    "# Considering each Citation as one\n",
    "with open(\"Downloads\\AP_train.txt\",'r', newline='', encoding=\"utf8\") as apfile:    \n",
    "    for row in apfile:\n",
    "        if row.startswith(\"#@\"):            \n",
    "            for column in row[3:].split(\";\"):\n",
    "                if author_publications.get(column.strip()) == None:\n",
    "                    author_publications[column.strip()] = 1\n",
    "                else:\n",
    "                    author_publications[column.strip()]  += 1\n",
    "                    \n",
    "authors = list(author_publications.keys())\n",
    "publications = list(author_publications.values()) \n",
    "\n"
   ]
  },
  {
   "cell_type": "code",
   "execution_count": 73,
   "metadata": {},
   "outputs": [
    {
     "name": "stdout",
     "output_type": "stream",
     "text": [
      "1071\n"
     ]
    }
   ],
   "source": [
    "# Removing values for the null author and it's respective publication count , \n",
    "# because it is an outlier in this case and has a value much greater than the mean. \n",
    "\n",
    "null_index = authors.index(\"\")\n",
    "del authors[null_index]\n",
    "del publications[null_index]"
   ]
  },
  {
   "cell_type": "code",
   "execution_count": 74,
   "metadata": {},
   "outputs": [
    {
     "data": {
      "image/png": "[encoded data removed]",
      "text/plain": [
       "<matplotlib.figure.Figure at 0x2ac096e69e8>"
      ]
     },
     "metadata": {},
     "output_type": "display_data"
    }
   ],
   "source": [
    "import math\n",
    "import matplotlib.mlab as mlab\n",
    "import matplotlib.pyplot as plt\n",
    "\n",
    "plt.xlabel('Authors')\n",
    "plt.ylabel('Publications')\n",
    "plt.title('Histogram of Publications per author')\n",
    "plt.grid(True)\n",
    "\n",
    "plt.hist(publications,bins=50,log=True)\n",
    "plt.show()"
   ]
  },
  {
   "cell_type": "markdown",
   "metadata": {},
   "source": [
    "#### b. Calculate the mean and standard deviation of the number of publications per author. Also calculate the Q1 (1st quartile14), Q2 (2nd quartile, or median) and Q3 (3rd quartile) values. Compare the median to the mean and explain the di\u000b",
    "erence between the two values based on the standard deviation and the 1st and 3rd quartiles."
   ]
  },
  {
   "cell_type": "code",
   "execution_count": 83,
   "metadata": {
    "collapsed": true
   },
   "outputs": [],
   "source": [
    "def xMean(xlist):\n",
    "    xsum = 0;    \n",
    "    for x in xlist:\n",
    "        xsum += x\n",
    "    return(xsum/len(xlist))"
   ]
  },
  {
   "cell_type": "code",
   "execution_count": 84,
   "metadata": {},
   "outputs": [
    {
     "name": "stdout",
     "output_type": "stream",
     "text": [
      "Mean of publications per author =  3.291785602945224\n"
     ]
    }
   ],
   "source": [
    "print(\"Mean of publications per author = \" , xMean(publications))"
   ]
  },
  {
   "cell_type": "code",
   "execution_count": 85,
   "metadata": {
    "collapsed": true
   },
   "outputs": [],
   "source": [
    "def xMedian(xList):\n",
    "    xList.sort()    \n",
    "    if len(xList)%2 == 0:\n",
    "        return((xList[int(len(xList)/2-1)] + xList[int(len(xList)/2)])/2 , int(len(xList)/2-1) , int(len(xList)/2))\n",
    "    else:\n",
    "        return(xList[math.ceil(len(xList)/2-1)] , int(math.ceil(len(xList)/2-1)))        "
   ]
  },
  {
   "cell_type": "code",
   "execution_count": 86,
   "metadata": {},
   "outputs": [
    {
     "name": "stdout",
     "output_type": "stream",
     "text": [
      "Median of publications per author =  1\n"
     ]
    }
   ],
   "source": [
    "print(\"Median of publications per author = \" , xMedian(publications)[0])"
   ]
  },
  {
   "cell_type": "code",
   "execution_count": 87,
   "metadata": {
    "collapsed": true
   },
   "outputs": [],
   "source": [
    "def xQuartile(xList):\n",
    "    xList.sort()    \n",
    "    \n",
    "    med = xMedian(xList)    \n",
    "    second = int(med[0])\n",
    "    first = xMedian(xList[1:med[1]])[0]\n",
    "    third = xMedian(xList[med[1]:])[0] \n",
    "    \n",
    "    return(first,second,third)"
   ]
  },
  {
   "cell_type": "code",
   "execution_count": 88,
   "metadata": {},
   "outputs": [
    {
     "name": "stdout",
     "output_type": "stream",
     "text": [
      "Firt Second and Third Quartile are as follows :  (1, 1, 2)\n"
     ]
    }
   ],
   "source": [
    "print(\"Firt Second and Third Quartile are as follows : \" , xQuartile(publications))"
   ]
  },
  {
   "cell_type": "code",
   "execution_count": 89,
   "metadata": {
    "collapsed": true
   },
   "outputs": [],
   "source": [
    "def xSD(xList):\n",
    "    xList.sort()\n",
    "    mean = xMean(xList)\n",
    "    \n",
    "    xSDSum = 0.0\n",
    "    for i in xList:\n",
    "        xSDSum += pow(i-mean,2)\n",
    "    \n",
    "    return(pow(1/len(xList) * xSDSum,1/2))"
   ]
  },
  {
   "cell_type": "code",
   "execution_count": 91,
   "metadata": {},
   "outputs": [
    {
     "name": "stdout",
     "output_type": "stream",
     "text": [
      "SD of publications per author =  8.871889691035385\n"
     ]
    }
   ],
   "source": [
    "print(\"SD of publications per author = \" , xSD(publications))"
   ]
  },
  {
   "cell_type": "markdown",
   "metadata": {},
   "source": [
    "**Based on the values of the median and quartile we can infer the following:**\n",
    "** The majority of the authors in the dataset have one publication as both the first quartile and the median is 1 **\n",
    "** Also from the histogram we can see the next major element is 2. **\n",
    "** Thus , the difference in the mean and the median is justified , as we expect not many authors to have great number of publications(as seen from the histogram) , there will be a very small subset of authors with a huge number of publications and those account to the mean being over 3.**"
   ]
  },
  {
   "cell_type": "markdown",
   "metadata": {},
   "source": [
    "#### c) Now plot a histogram of the number of publications per venue, as well as calculate the mean, standard deviation, median, Q1, and Q3 values. What is the venue with the largest number of publications in the dataset?"
   ]
  },
  {
   "cell_type": "code",
   "execution_count": 92,
   "metadata": {
    "collapsed": true
   },
   "outputs": [],
   "source": [
    "venue_publications = {}\n",
    "\n",
    "# Considering each occurence as one publication\n",
    "with open(\"Downloads\\AP_train.txt\",'r', newline='', encoding=\"utf8\") as apfile:    \n",
    "    for row in apfile:\n",
    "        if row.startswith(\"#c\"):                        \n",
    "            if venue_publications.get(row[3:]) == None:\n",
    "                venue_publications[row[3:]] = 1\n",
    "            else:\n",
    "                venue_publications[row[3:]]  += 1\n",
    "                    \n",
    "venues = list(venue_publications.keys())\n",
    "publications = list(venue_publications.values()) "
   ]
  },
  {
   "cell_type": "code",
   "execution_count": 93,
   "metadata": {},
   "outputs": [
    {
     "data": {
      "image/png": "[encoded data removed]",
      "text/plain": [
       "<matplotlib.figure.Figure at 0x2ac08dc15f8>"
      ]
     },
     "metadata": {},
     "output_type": "display_data"
    }
   ],
   "source": [
    "import matplotlib.pyplot as plt\n",
    "\n",
    "plt.xlabel('Venues')\n",
    "plt.ylabel('Publications')\n",
    "plt.title('Histogram of Publications per venue')\n",
    "plt.grid(True)\n",
    "\n",
    "plt.hist(publications,bins=50,log=True)\n",
    "plt.show()"
   ]
  },
  {
   "cell_type": "code",
   "execution_count": 94,
   "metadata": {},
   "outputs": [
    {
     "name": "stdout",
     "output_type": "stream",
     "text": [
      "Mean of publications per venue =  7.715160119522536\n",
      "Median of publications per venue =  1.0\n",
      "Firt Second and Third Quartile are as follows :  (1.0, 1, 1)\n",
      "SD of publications per venue =  83.0926721987981\n"
     ]
    }
   ],
   "source": [
    "print(\"Mean of publications per venue = \" , xMean(publications[2:]))\n",
    "print(\"Median of publications per venue = \" , xMedian(publications[2:])[0])\n",
    "print(\"Firt Second and Third Quartile are as follows : \" , xQuartile(publications[2:]))\n",
    "print(\"SD of publications per venue = \" , xSD(publications[2:]))\n",
    "      "
   ]
  },
  {
   "cell_type": "code",
   "execution_count": 95,
   "metadata": {},
   "outputs": [
    {
     "name": "stdout",
     "output_type": "stream",
     "text": [
      "Max publication at Venue =  IEEE Transactions on Information Theory\n",
      "\n"
     ]
    }
   ],
   "source": [
    "print(\"Max publication at Venue = \" , venues[list(venue_publications.values()).index(max(list(venue_publications.values())))])"
   ]
  },
  {
   "cell_type": "markdown",
   "metadata": {},
   "source": [
    "## 3.3 References, Citations, Impact\n",
    "\n",
    "#### a. Plot a histogram of the number of references (number of publications a publication refers to) and citations (number of publications referring to a publication) per publication. What is the publication with the largest number of references? What is the publication with the largest number of citations? Do these make sense?"
   ]
  },
  {
   "cell_type": "code",
   "execution_count": 96,
   "metadata": {},
   "outputs": [
    {
     "name": "stdout",
     "output_type": "stream",
     "text": [
      "Total references 797454\n",
      "Total cites 871089\n"
     ]
    }
   ],
   "source": [
    "ref = {}\n",
    "cite = {}\n",
    "cite_count_venue = {}\n",
    "venue_publicationName = {}\n",
    "# Creatig data structures used for 3.3 \n",
    "with open(\"Downloads\\AP_train.txt\",'r', newline='', encoding=\"utf8\") as apfile:    \n",
    "    index = 0\n",
    "    venue = \"\"\n",
    "    for row in apfile:        \n",
    "        if row.startswith(\"#index\"):                        \n",
    "            index = int(row[7:])\n",
    "        elif row.startswith(\"#c\"):                        \n",
    "            venue = row[3:]\n",
    "            if venue_publicationName.get(index) == None:\n",
    "                venue_publicationName[index] = venue\n",
    "        elif row.startswith(\"#%\"):\n",
    "            if ref.get(index) == None:\n",
    "                ref[index] = 1\n",
    "            else:\n",
    "                ref[index]  += 1\n",
    "                \n",
    "            if cite.get(int(row[3:])) == None:\n",
    "                cite[int(row[3:])] = 1\n",
    "            else:\n",
    "                cite[int(row[3:])]  += 1                            \n",
    "            \n",
    "            cite_venue = venue_publicationName.get(int(row[3:]))\n",
    "            if cite_count_venue.get(cite_venue) == None:\n",
    "                cite_count_venue[cite_venue] = 1\n",
    "            else:\n",
    "                cite_count_venue[cite_venue] += 1\n",
    "                    \n",
    "print(\"Total references\", len(ref))\n",
    "print(\"Total cites\", len(cite))"
   ]
  },
  {
   "cell_type": "code",
   "execution_count": 137,
   "metadata": {},
   "outputs": [
    {
     "name": "stdout",
     "output_type": "stream",
     "text": [
      "Publication index with max References =  719353 with value =  772\n",
      "Publication index with max Citations =  408396 with value =  7753\n"
     ]
    }
   ],
   "source": [
    "print(\"Publication index with max References = \" , list(ref.keys())[list(ref.values()).index(max(list(ref.values())))] , \"with value = \",max(list(ref.values())))\n",
    "print(\"Publication index with max Citations = \" , list(cite.keys())[list(cite.values()).index(max(list(cite.values())))] , \"with value = \",max(list(cite.values())))"
   ]
  },
  {
   "cell_type": "code",
   "execution_count": 98,
   "metadata": {},
   "outputs": [
    {
     "data": {
      "image/png": "[encoded data removed]",
      "text/plain": [
       "<matplotlib.figure.Figure at 0x2ac0964feb8>"
      ]
     },
     "metadata": {},
     "output_type": "display_data"
    },
    {
     "data": {
      "image/png": "[encoded data removed]",
      "text/plain": [
       "<matplotlib.figure.Figure at 0x2ac0a7aafd0>"
      ]
     },
     "metadata": {},
     "output_type": "display_data"
    }
   ],
   "source": [
    "import matplotlib.pyplot as plt\n",
    "\n",
    "plt.title('Histogram of References')\n",
    "plt.grid(True)\n",
    "\n",
    "plt.hist(list(ref.values()),bins=25,log=True)\n",
    "plt.show()\n",
    "\n",
    "\n",
    "plt.title('Histogram of Citations')\n",
    "plt.grid(True)\n",
    "\n",
    "plt.hist(list(cite.values()),bins=25,log=True)\n",
    "plt.show()\n"
   ]
  },
  {
   "cell_type": "markdown",
   "metadata": {},
   "source": [
    "** It makes sense because the number of histograms is almost equivalent to the number of references , which should ideally be the case, the missing numbers can be attributed to the number of publications not included in the data set. The maximum citations for the paper also makes sense because some papers only refer to other papers and review them and the citations also make sense as some fundamental paper like MapReduce will be referred in all subsequent paper published on the same topic!**"
   ]
  },
  {
   "cell_type": "markdown",
   "metadata": {},
   "source": [
    "#### b) Calculate the so called \\impact\" factor for each venue. To do so, calculate the total number of citations for the publications in the venue, and then divide this number by the number of publications for the venue. Plot a histogram of the results."
   ]
  },
  {
   "cell_type": "code",
   "execution_count": 139,
   "metadata": {},
   "outputs": [],
   "source": [
    "venue_impact = {}\n",
    "\n",
    "for venue in cite_count_venue.keys():   \n",
    "    venue_impact[venue] = 0    \n",
    "    if venue != 'None' and venue_publications.get(venue) != None :\n",
    "        venue_impact[venue] = cite_count_venue[venue]/venue_publications[venue]        "
   ]
  },
  {
   "cell_type": "code",
   "execution_count": 140,
   "metadata": {},
   "outputs": [
    {
     "data": {
      "image/png": "[encoded data removed]",
      "text/plain": [
       "<matplotlib.figure.Figure at 0x2ac0877a3c8>"
      ]
     },
     "metadata": {},
     "output_type": "display_data"
    }
   ],
   "source": [
    "import matplotlib.pyplot as plt\n",
    "\n",
    "plt.title('Histogram of Venue Impacts')\n",
    "plt.grid(True)\n",
    "\n",
    "plt.hist(list(venue_impact.values()),bins=50,log=True)\n",
    "plt.show()"
   ]
  },
  {
   "cell_type": "markdown",
   "metadata": {},
   "source": [
    "#### c. What is the venue with the highest apparent impact factor? Do you believe this number?"
   ]
  },
  {
   "cell_type": "code",
   "execution_count": 141,
   "metadata": {},
   "outputs": [
    {
     "name": "stdout",
     "output_type": "stream",
     "text": [
      "Venue with max impact =  Computers and Intractability: A Guide to the Theory of NP-Completeness\n",
      "\n"
     ]
    }
   ],
   "source": [
    "max_index = list(venue_impact.values()).index(max(list(venue_impact.values())))\n",
    "print(\"Venue with max impact = \" , list(venue_impact.keys())[max_index])"
   ]
  },
  {
   "cell_type": "markdown",
   "metadata": {},
   "source": [
    "** The venue impact factor is directly related to the number of citations of all papers from a venue has got v/s the number of papers published at that venue. Since first we have discovered the name of the venues are written differently in different data records. Thus, we know that the number might as well be not accurate. Also , in an ideal scenario the venue impact would be the highest for venues that publish less but great quality papers , but in real scenario venues that publish great quality papers , generally would publish a lot of papers . Thus the impact factor above seems unbelivable.**"
   ]
  },
  {
   "cell_type": "markdown",
   "metadata": {},
   "source": [
    "#### d. Now repeat the calculation from item b., but restrict the calculation to venues with at least 10 publications. How does your histogram change? List the citation counts for all publications from the venue with the highest impact factor. How does the impact factor (mean number of citations) compare to the median number of citations?"
   ]
  },
  {
   "cell_type": "code",
   "execution_count": 142,
   "metadata": {},
   "outputs": [
    {
     "data": {
      "image/png": "[encoded data removed]",
      "text/plain": [
       "<matplotlib.figure.Figure at 0x2ac0a9ce8d0>"
      ]
     },
     "metadata": {},
     "output_type": "display_data"
    }
   ],
   "source": [
    "venue_impact = {}\n",
    "\n",
    "for venue in cite_count_venue.keys():   \n",
    "    venue_impact[venue] = 0    \n",
    "    if venue != 'None' and venue_publications.get(venue) != None and venue_publications[venue] >=10 :\n",
    "        venue_impact[venue] = cite_count_venue[venue]/venue_publications[venue]        \n",
    "\n",
    "import matplotlib.pyplot as plt\n",
    "\n",
    "plt.title('Histogram of Venue Impacts >=10')\n",
    "plt.grid(True)\n",
    "\n",
    "plt.hist(list(venue_impact.values()),bins=50,log=True)\n",
    "plt.show()"
   ]
  },
  {
   "cell_type": "markdown",
   "metadata": {},
   "source": [
    "The values seem much more belivable now."
   ]
  },
  {
   "cell_type": "code",
   "execution_count": 143,
   "metadata": {},
   "outputs": [
    {
     "name": "stdout",
     "output_type": "stream",
     "text": [
      "Venue with max impact =  Proceedings of the 2001 conference on Applications, technologies, architectures, and protocols for computer communications\n",
      "  with value =  214.6086956521739\n",
      "Median of citations 5.0\n"
     ]
    }
   ],
   "source": [
    "max_index = list(venue_impact.values()).index(max(list(venue_impact.values())))\n",
    "print(\"Venue with max impact = \" , list(venue_impact.keys())[max_index] , \" with value = \" , list(venue_impact.values())[max_index])\n",
    "print(\"Median of citations\" , xMedian(list(cite_count_venue.values()))[0])"
   ]
  },
  {
   "cell_type": "markdown",
   "metadata": {},
   "source": [
    "#### e) Finally, construct a list of publications for each publication year. Use this list to plot the average number of references and average number of citations per publication as a function of time. Explain the differences you see in the trends."
   ]
  },
  {
   "cell_type": "code",
   "execution_count": 118,
   "metadata": {
    "collapsed": true
   },
   "outputs": [],
   "source": [
    "year_publications = {}\n",
    "year_avg = {}\n",
    "\n",
    "with open(\"Downloads\\AP_train.txt\",'r', newline='', encoding=\"utf8\") as apfile:    \n",
    "    index = 0\n",
    "    year = 0\n",
    "    for row in apfile:        \n",
    "        if row.startswith(\"#index\"):                        \n",
    "            index = int(row[7:])\n",
    "        elif row.startswith(\"#t\") and len(row)==8:\n",
    "            year = int(row[3:])            \n",
    "            if year_publications.get(year) == None:\n",
    "                year_publications[year] = {\"publications\":0,\"cites\":0,\"refs\":0}\n",
    "                year_publications[year][\"publications\"] = 1                \n",
    "                if cite.get(index) != None:\n",
    "                    year_publications[year][\"cites\"] = cite.get(index)\n",
    "                if ref.get(index) != None:\n",
    "                    year_publications[year][\"refs\"] = ref.get(index)\n",
    "            else:\n",
    "                year_publications[year][\"publications\"] += 1\n",
    "                if cite.get(index) != None:\n",
    "                    year_publications[year][\"cites\"] += cite.get(index)\n",
    "                if ref.get(index) != None:\n",
    "                    year_publications[year][\"refs\"] += ref.get(index)\n",
    "    "
   ]
  },
  {
   "cell_type": "code",
   "execution_count": 136,
   "metadata": {
    "scrolled": true
   },
   "outputs": [],
   "source": [
    "import collections\n",
    "\n",
    "for year in year_publications.keys():\n",
    "    year_avg[year] = {}\n",
    "    year_avg[year][\"cites\"] = year_publications[year][\"cites\"]/ year_publications[year][\"publications\"]\n",
    "    year_avg[year][\"refs\"] = year_publications[year][\"refs\"]/ year_publications[year][\"publications\"]\n",
    "    #print(\"Averages for year\" ,year, year_avg[year])\n",
    "\n",
    "year_avg = collections.OrderedDict(sorted(year_avg.items()))\n",
    "# for year in year_avg.keys():\n",
    "#     print(\"Averages for year\" ,year, year_avg[year])"
   ]
  },
  {
   "cell_type": "code",
   "execution_count": 135,
   "metadata": {},
   "outputs": [
    {
     "data": {
      "image/png": "[encoded data removed]",
      "text/plain": [
       "<matplotlib.figure.Figure at 0x2ac0a813630>"
      ]
     },
     "metadata": {},
     "output_type": "display_data"
    }
   ],
   "source": [
    "# Plotting avg references and citations / year\n",
    "\n",
    "x = list(year_avg.keys())\n",
    "y1 = list([year_avg[year][\"cites\"] for year in x])\n",
    "y2 = list([year_avg[year][\"refs\"] for year in x])\n",
    "\n",
    "fig, ax = plt.subplots()\n",
    "ax.plot(x, y1, 'r*', label='Avg no. of citations')\n",
    "ax.plot(x, y2, 'b.', label='Avg no. of references')\n",
    "\n",
    "legend = ax.legend(loc='upper right')\n",
    "\n",
    "plt.show()"
   ]
  },
  {
   "cell_type": "code",
   "execution_count": null,
   "metadata": {
    "collapsed": true
   },
   "outputs": [],
   "source": []
  }
 ],
 "metadata": {
  "kernelspec": {
   "display_name": "Python 3",
   "language": "python",
   "name": "python3"
  },
  "language_info": {
   "codemirror_mode": {
    "name": "ipython",
    "version": 3
   },
   "file_extension": ".py",
   "mimetype": "text/x-python",
   "name": "python",
   "nbconvert_exporter": "python",
   "pygments_lexer": "ipython3",
   "version": "3.6.1"
  }
 },
 "nbformat": 4,
 "nbformat_minor": 2
}
